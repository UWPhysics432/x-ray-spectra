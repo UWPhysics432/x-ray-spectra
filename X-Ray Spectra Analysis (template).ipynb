{
 "cells": [
  {
   "cell_type": "markdown",
   "metadata": {},
   "source": [
    "# Individual Analysis for the X-Ray Spectra Experiment\n",
    "\n",
    "Use this template to carry out the analysis tasks for the experiment.  You may need to consult the documentation for different Python packages.  Also recommended: the [Whirlwind Tour of Python](https://jakevdp.github.io/WhirlwindTourOfPython/) and the [Python Data Science Handbook](https://jakevdp.github.io/PythonDataScienceHandbook/) both by Jake VanderPlas.\n",
    "\n",
    "We will also be using [**LMFit**](https://lmfit.github.io/lmfit-py/) for curve fitting \n",
    "and the [Uncertainties](https://pythonhosted.org/uncertainties/) package for calculating statistical uncertainty. "
   ]
  },
  {
   "cell_type": "code",
   "execution_count": null,
   "metadata": {},
   "outputs": [],
   "source": [
    "# Run this cell with Shift-Enter, and wait until the asterisk changes to a number, i.e., [*] becomes [1]\n",
    "import numpy as np\n",
    "import scipy.constants as const\n",
    "import uncertainties as unc\n",
    "import uncertainties.unumpy as up\n",
    "import matplotlib.pyplot as plt\n",
    "import pandas as pd\n",
    "%matplotlib inline"
   ]
  },
  {
   "cell_type": "markdown",
   "metadata": {},
   "source": [
    "## Summary of tasks\n",
    "\n",
    "### Prior to working on this notebook\n",
    "\n",
    "1. Obtain a copy of the AmpTek software **DppMCA** from the link on the course website.  Note: it works only on Windows or inside a Windows environment (Students with Macs have had success this way.)  Each member of the group should try to do this.\n",
    "\n",
    "2. Download the data files with the .mca extension from the experiment page.  Start with the iron (Fe-26) data file.  Open the background (1500s) data file and then open the Fe-26 data file and compare them.  Note the large peaks above background for the iron sample.  Use the procedure described in class to set the ROI and obtain the peak position and width.  Record this data into a spreadsheet.\n",
    "\n",
    "3. Repeat this process for all of the other known samples: find the peaks notably above background and obtain their positions and widths.  It is best to move up and down in <i>Z</i> from Fe, so that you can see how similar peaks shift as <i>Z</i> is changed.\n",
    "\n",
    "4. Because of the large data set, the group should divide up the files, but make sure there are some that overlap, so you can check your technique by comparing results from different people.\n",
    "\n",
    "5. Once you have analyzed the peaks from all of the \"knowns\" and have your procedure down, repeat for the 6 \"unknowns.\" Pay close attention to what the peak pattern looks like, and how it might compare to similar peaks among the \"knowns.\"\n",
    "\n",
    "6. Finally, put the results into two .csv files, one for \"knowns,\" one for \"unknowns.\"  These will be read into the notebook.\n",
    "\n",
    "### Tasks for this notebook\n",
    "\n",
    "* Make a \"Moseley plot\" of the knowns: $\\sqrt{\\rm Ch\\;\\#}$ vs. $Z$.\n",
    "\n",
    "* Determine the $\\text{K}_\\alpha$ series and the $\\text{L}_\\alpha$ series.  Fit lines to these to determine the screening constants $\\sigma$.\n",
    "\n",
    "* Make initial guesses for the $Z$ values of the unknowns, and plot the peaks for these samples in the Moseley plot.  Then adjust $Z$ if needed until the unknown peaks fit the pattern of the known peaks as well as can be seen.  This completes \"Method 1\" for the unknowns.\n",
    "\n",
    "* Select the peaks corresponding to the $\\text{K}_{\\alpha1}$ series and look up the known energies of these peaks.  Then plot and fit $E_{\\text{K}_{\\alpha1}}$ versus $\\text{Ch #}$, and obtain constants to create a calibration line that converts channel number to energy in eV or keV.\n",
    "\n",
    "* Apply the calibration to the unknown peaks and look up the energies in the look-up table to match with the correct $Z$ values.  This completes \"Method 2\" for the unknowns."
   ]
  },
  {
   "cell_type": "markdown",
   "metadata": {},
   "source": [
    "## Read in the \"Known\" sample peak locations\n",
    "\n",
    "CSV file has columns <b>Element</b>, <b>Z</b>, <b>Ka1</b>, <b>Ka2</b>, <b>Kb</b>, <b>La</b>, <b>Lb</b>, <b>Lg</b> for K-lines $\\alpha1,\\alpha2$, $\\beta$, and L-lines $\\alpha$, $\\beta$, and $\\gamma$.  Each row is a different element.  Cells that do not have peaks are set to zero."
   ]
  },
  {
   "cell_type": "code",
   "execution_count": null,
   "metadata": {},
   "outputs": [],
   "source": []
  },
  {
   "cell_type": "markdown",
   "metadata": {},
   "source": [
    "### Combine peak locations and widths into uncertainty-object arrays\n",
    "\n",
    "You do not need to include peak widths, but it does not hurt.  It is a little extra work."
   ]
  },
  {
   "cell_type": "code",
   "execution_count": null,
   "metadata": {},
   "outputs": [],
   "source": []
  },
  {
   "cell_type": "markdown",
   "metadata": {},
   "source": [
    "## Make a Moseley Plot\n",
    "\n",
    "Transform the data sets by taking the square root of the peak locations.  Plot $\\sqrt{\\text{Ch #}}$ versus $Z$."
   ]
  },
  {
   "cell_type": "code",
   "execution_count": null,
   "metadata": {},
   "outputs": [],
   "source": [
    "plt.figure(figsize=(18,12))\n",
    "plt.grid()\n",
    "plt.title('X-Ray Spectra Analysis, Moseley Plot',fontsize=20)\n",
    "plt.ylabel(r'$\\sqrt{Ch}$',fontsize=20)\n",
    "plt.xlabel(r'$Z$',fontsize=20)\n",
    "plt.xlim(0,90)\n",
    "plt.ylim(0,80)\n",
    "\n",
    "## You do the rest"
   ]
  },
  {
   "cell_type": "markdown",
   "metadata": {},
   "source": [
    "## Fit to obtain screening constants\n",
    "\n",
    "Fit the $K_{\\alpha1}$ and $L_{\\alpha}$ series to a line to obtain the screening constants $\\sigma_K$ and $\\sigma_L$."
   ]
  },
  {
   "cell_type": "code",
   "execution_count": null,
   "metadata": {},
   "outputs": [],
   "source": []
  },
  {
   "cell_type": "code",
   "execution_count": null,
   "metadata": {},
   "outputs": [],
   "source": []
  },
  {
   "cell_type": "markdown",
   "metadata": {},
   "source": [
    "### Results of fit"
   ]
  },
  {
   "cell_type": "code",
   "execution_count": null,
   "metadata": {},
   "outputs": [],
   "source": [
    "print('Screening constant for K-alpha1 = {:.2uP}'.format(sigma_K))\n",
    "print('Screening constant for L-alpha = {:.2uP}'.format(sigma_L))"
   ]
  },
  {
   "cell_type": "markdown",
   "metadata": {},
   "source": [
    "## Replot with fitlines\n",
    "\n",
    "Calculate fitlines for the two linear fits, and plot them with the data in the Moseley plot. "
   ]
  },
  {
   "cell_type": "code",
   "execution_count": null,
   "metadata": {},
   "outputs": [],
   "source": []
  },
  {
   "cell_type": "markdown",
   "metadata": {},
   "source": [
    "## Read in the \"Unknown\" peaks\n",
    "\n",
    "Read the results from the peak fitting for the \"unknown\" samples.  \n",
    "\n",
    "My CSV file has columns **U1, U2, U3, U4, U5, U6** for the peaks for each unknown.  Number of peaks in each is between 2 and 4.  Empty cells are set to zero."
   ]
  },
  {
   "cell_type": "code",
   "execution_count": null,
   "metadata": {
    "scrolled": true
   },
   "outputs": [],
   "source": []
  },
  {
   "cell_type": "markdown",
   "metadata": {},
   "source": [
    "## Plot the Unknowns with the Knowns\n",
    "\n",
    "Add the peaks for the unknowns in the same manner as was done for the knowns.  You will need to estimate the value of $Z$ for each unknown and then refine it.\n",
    "\n",
    "For the unknowns, a number of peaks will have the same $Z$ value.  To create an x-axis list of $Z$ values for each of the unknowns, here is one way:\n",
    "\n",
    "    np.full(4,24) \n",
    "    \n",
    "will make a numpy array of 4 elements all having the same value of 24 ($Z$)."
   ]
  },
  {
   "cell_type": "code",
   "execution_count": null,
   "metadata": {},
   "outputs": [],
   "source": []
  },
  {
   "cell_type": "markdown",
   "metadata": {},
   "source": [
    "## Include the known energies\n",
    "\n",
    "Look up the known energies of the known $K_{\\alpha1}$ (and $L_{\\alpha}$) peaks (in keV) and add a column to the known's dataframe.  This will make it easy to fit."
   ]
  },
  {
   "cell_type": "code",
   "execution_count": null,
   "metadata": {},
   "outputs": [],
   "source": [
    "\n",
    "                               "
   ]
  },
  {
   "cell_type": "code",
   "execution_count": null,
   "metadata": {},
   "outputs": [],
   "source": [
    "print('Collected Known data. Energy column in keV.')\n",
    "# Print your dataframe with the energies"
   ]
  },
  {
   "cell_type": "markdown",
   "metadata": {},
   "source": [
    "## Fit a line\n",
    "\n",
    "Fit a line to the known energy vs. measured peak locations.  IMPORTANT: This is NOT a Moseley plot, just the un-transformed peak measurements."
   ]
  },
  {
   "cell_type": "code",
   "execution_count": null,
   "metadata": {
    "scrolled": false
   },
   "outputs": [],
   "source": []
  },
  {
   "cell_type": "markdown",
   "metadata": {},
   "source": [
    "## Make calibration function\n",
    "\n",
    "Use the fit results to create a simple function to transform peak locations into energies in keV."
   ]
  },
  {
   "cell_type": "code",
   "execution_count": null,
   "metadata": {},
   "outputs": [],
   "source": []
  },
  {
   "cell_type": "markdown",
   "metadata": {},
   "source": [
    "Test it against the known $K_{\\alpha1}$ and $L_{\\alpha}$ lines.  Easiest way: make a table wth adjacent columns."
   ]
  },
  {
   "cell_type": "code",
   "execution_count": null,
   "metadata": {},
   "outputs": [],
   "source": [
    "\n"
   ]
  },
  {
   "cell_type": "markdown",
   "metadata": {},
   "source": [
    "## Apply to Unknowns\n",
    "\n",
    "Apply the calibration to the unknowns, and compare to what you find in the look-up table for the assumed value of Z.\n",
    "\n",
    "Useful to make a table containing the measured energies next to the the known energies."
   ]
  },
  {
   "cell_type": "code",
   "execution_count": null,
   "metadata": {},
   "outputs": [],
   "source": []
  },
  {
   "cell_type": "markdown",
   "metadata": {},
   "source": [
    "## Optional: Fit Look-up Data\n",
    "\n",
    "To test the model for finding the screening constant, I will retry the fit using the \"official\" energies from the look-up tables."
   ]
  },
  {
   "cell_type": "code",
   "execution_count": null,
   "metadata": {},
   "outputs": [],
   "source": []
  },
  {
   "cell_type": "code",
   "execution_count": null,
   "metadata": {},
   "outputs": [],
   "source": []
  },
  {
   "cell_type": "code",
   "execution_count": null,
   "metadata": {},
   "outputs": [],
   "source": [
    "print('Froom look-up table data:')\n",
    "print('Screening constant for K-alpha1 = {:.2uP}'.format(sigma_K_lookup))\n",
    "print('Screening constant for L-alpha = {:.2uP}'.format(sigma_L_lookup))"
   ]
  },
  {
   "cell_type": "code",
   "execution_count": null,
   "metadata": {},
   "outputs": [],
   "source": []
  }
 ],
 "metadata": {
  "kernelspec": {
   "display_name": "Python 3",
   "language": "python",
   "name": "python3"
  },
  "language_info": {
   "codemirror_mode": {
    "name": "ipython",
    "version": 3
   },
   "file_extension": ".py",
   "mimetype": "text/x-python",
   "name": "python",
   "nbconvert_exporter": "python",
   "pygments_lexer": "ipython3",
   "version": "3.7.3"
  }
 },
 "nbformat": 4,
 "nbformat_minor": 2
}
